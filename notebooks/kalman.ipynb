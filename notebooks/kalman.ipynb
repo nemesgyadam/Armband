{
 "cells": [
  {
   "cell_type": "code",
   "execution_count": 1,
   "metadata": {},
   "outputs": [],
   "source": [
    "from pykalman import KalmanFilter\n",
    "kf = KalmanFilter(initial_state_mean=0, n_dim_obs=1,em_vars=['transition_covariance', 'observation_covariance'])"
   ]
  },
  {
   "cell_type": "code",
   "execution_count": 9,
   "metadata": {},
   "outputs": [
    {
     "data": {
      "text/plain": [
       "<pykalman.standard.KalmanFilter at 0x2af168acd48>"
      ]
     },
     "execution_count": 9,
     "metadata": {},
     "output_type": "execute_result"
    }
   ],
   "source": [
    "measurements = [1, 2, 3, 4, 5, 6, 7, 8, 9, 10, 5]\n",
    "kf.em([0.,0.])"
   ]
  },
  {
   "cell_type": "code",
   "execution_count": 11,
   "metadata": {},
   "outputs": [
    {
     "name": "stdout",
     "output_type": "stream",
     "text": [
      "1 0.990763808998859 [[0.00932424]]\n",
      "2 1.6639990392702506 [[0.00627794]]\n",
      "3 2.501488598064565 [[0.00589951]]\n",
      "4 3.432332531619713 [[0.00584602]]\n",
      "5 4.404853306142227 [[0.00583832]]\n",
      "6 5.394233151652615 [[0.00583721]]\n",
      "7 6.390172789965783 [[0.00583705]]\n",
      "8 7.388626827161522 [[0.00583703]]\n",
      "9 8.388039138419769 [[0.00583703]]\n",
      "10 9.387815866139036 [[0.00583703]]\n",
      "5 6.666387423911129 [[0.00583703]]\n"
     ]
    }
   ],
   "source": [
    "filtered_state_means = kf.initial_state_mean\n",
    "filtered_state_covariances = kf.initial_state_covariance\n",
    "\n",
    "for m in measurements:\n",
    "    filtered_state_means, filtered_state_covariances = (\n",
    "        kf.filter_update(\n",
    "            filtered_state_means,\n",
    "            filtered_state_covariances,\n",
    "            observation = m)\n",
    "        )\n",
    "    \n",
    "    print(m, filtered_state_means[0], filtered_state_covariances)\n",
    "   "
   ]
  },
  {
   "cell_type": "code",
   "execution_count": null,
   "metadata": {},
   "outputs": [],
   "source": []
  }
 ],
 "metadata": {
  "kernelspec": {
   "display_name": "Python 3.7.6 ('base')",
   "language": "python",
   "name": "python3"
  },
  "language_info": {
   "codemirror_mode": {
    "name": "ipython",
    "version": 3
   },
   "file_extension": ".py",
   "mimetype": "text/x-python",
   "name": "python",
   "nbconvert_exporter": "python",
   "pygments_lexer": "ipython3",
   "version": "3.7.6"
  },
  "orig_nbformat": 4,
  "vscode": {
   "interpreter": {
    "hash": "ad2bdc8ecc057115af97d19610ffacc2b4e99fae6737bb82f5d7fb13d2f2c186"
   }
  }
 },
 "nbformat": 4,
 "nbformat_minor": 2
}
