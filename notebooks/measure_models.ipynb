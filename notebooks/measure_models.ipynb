{
 "cells": [
  {
   "cell_type": "code",
   "execution_count": 1,
   "metadata": {},
   "outputs": [
    {
     "name": "stdout",
     "output_type": "stream",
     "text": [
      "c:\\Code\\Armband\n"
     ]
    }
   ],
   "source": [
    "%cd .."
   ]
  },
  {
   "cell_type": "code",
   "execution_count": 14,
   "metadata": {},
   "outputs": [],
   "source": [
    "os.environ['TF_CPP_MIN_LOG_LEVEL'] = '3' \n",
    "import tensorflow as tf\n",
    "import numpy as np\n",
    "\n",
    "from time import perf_counter_ns\n",
    "import os"
   ]
  },
  {
   "cell_type": "code",
   "execution_count": 4,
   "metadata": {},
   "outputs": [
    {
     "name": "stdout",
     "output_type": "stream",
     "text": [
      "['conv_0.89_0.8725', 'conv_gru_0.9525_0.92', 'conv_lstm_0.97_0.945', 'conv_rnn_0.9625_0.89', 'dense_0.6575_0.8275', 'gru_0.4975_0.8625', 'lstm_0.555_0.86', 'rnn_0.5225_0.72']\n"
     ]
    }
   ],
   "source": [
    "models = os.listdir(\"auto_models\")\n",
    "print(models)"
   ]
  },
  {
   "cell_type": "code",
   "execution_count": null,
   "metadata": {},
   "outputs": [],
   "source": [
    "pred_times = {}\n",
    "for model_descr in models:\n",
    "    print(f\"Measuring {model_descr}\")\n",
    "    model = tf.keras.models.load_model(f\"auto_models/{model_descr}\")\n",
    "\n",
    "    # WARM UP\n",
    "    for i in range(10):\n",
    "        model.predict(tf.random.normal((1,8,1000)))\n",
    "\n",
    "    # MEASURE\n",
    "\n",
    "    start = perf_counter_ns()\n",
    "    for i in range(100):\n",
    "        model.predict(tf.random.normal((1,8,1000)))\n",
    "    end = perf_counter_ns()\n",
    "    #print(f\"Time: {((end-start)/100)/1e6}ms\")\n",
    "    pred_times[model_descr] = ((end-start)/100)/1e6\n"
   ]
  },
  {
   "cell_type": "code",
   "execution_count": 12,
   "metadata": {},
   "outputs": [
    {
     "name": "stdout",
     "output_type": "stream",
     "text": [
      "{'conv_0.89_0.8725': 27.92039, 'conv_gru_0.9525_0.92': 40.496229, 'conv_lstm_0.97_0.945': 42.701565, 'conv_rnn_0.9625_0.89': 47.024403, 'dense_0.6575_0.8275': 33.047562, 'gru_0.4975_0.8625': 34.012228, 'lstm_0.555_0.86': 33.186027, 'rnn_0.5225_0.72': 48.929549}\n"
     ]
    }
   ],
   "source": [
    "print(pred_times)"
   ]
  },
  {
   "cell_type": "code",
   "execution_count": null,
   "metadata": {},
   "outputs": [],
   "source": [
    "train_params = {}\n",
    "for model_descr in models:\n",
    "    model = tf.keras.models.load_model(f\"auto_models/{model_descr}\")\n",
    "    trainableParams = np.sum([np.prod(v.get_shape()) for v in model.trainable_weights])\n",
    "    nonTrainableParams = np.sum([np.prod(v.get_shape()) for v in model.non_trainable_weights])\n",
    "    totalParams = trainableParams + nonTrainableParams\n",
    "    train_params[model_descr] = totalParams"
   ]
  },
  {
   "cell_type": "code",
   "execution_count": 16,
   "metadata": {},
   "outputs": [
    {
     "data": {
      "text/plain": [
       "{'conv_0.89_0.8725': 37342.0,\n",
       " 'conv_gru_0.9525_0.92': 429022.0,\n",
       " 'conv_lstm_0.97_0.945': 1478142.0,\n",
       " 'conv_rnn_0.9625_0.89': 397542.0,\n",
       " 'dense_0.6575_0.8275': 146292.0,\n",
       " 'gru_0.4975_0.8625': 259482.0,\n",
       " 'lstm_0.555_0.86': 341482.0,\n",
       " 'rnn_0.5225_0.72': 310982.0}"
      ]
     },
     "execution_count": 16,
     "metadata": {},
     "output_type": "execute_result"
    }
   ],
   "source": [
    "train_params"
   ]
  },
  {
   "cell_type": "code",
   "execution_count": null,
   "metadata": {},
   "outputs": [],
   "source": []
  }
 ],
 "metadata": {
  "kernelspec": {
   "display_name": "Python 3.10.5 64-bit",
   "language": "python",
   "name": "python3"
  },
  "language_info": {
   "codemirror_mode": {
    "name": "ipython",
    "version": 3
   },
   "file_extension": ".py",
   "mimetype": "text/x-python",
   "name": "python",
   "nbconvert_exporter": "python",
   "pygments_lexer": "ipython3",
   "version": "3.10.5"
  },
  "orig_nbformat": 4,
  "vscode": {
   "interpreter": {
    "hash": "9c3bc4468e177b571f977f49ff15cc38e604c760649959177f542892930a62a4"
   }
  }
 },
 "nbformat": 4,
 "nbformat_minor": 2
}
