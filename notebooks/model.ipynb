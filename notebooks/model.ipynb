{
 "cells": [
  {
   "cell_type": "code",
   "execution_count": 1,
   "metadata": {},
   "outputs": [
    {
     "name": "stdout",
     "output_type": "stream",
     "text": [
      "c:\\Users\\Gyuri\\Desktop\\Coding\\Python\\Armband\n"
     ]
    }
   ],
   "source": [
    "import os\n",
    "%cd ..\n",
    "import numpy as np\n",
    "import random\n",
    "import keras_tuner as kt\n",
    "from matplotlib import pyplot as plt\n",
    "from sklearn.model_selection import train_test_split\n",
    "import tensorflow as tf\n",
    "from tensorflow import keras\n",
    "from tensorflow.keras.utils import to_categorical\n",
    "from tensorflow.keras.models import Sequential\n",
    "from tensorflow.keras import layers as layers\n",
    "from tensorflow.keras.layers import GlobalMaxPooling2D, Activation, Dense, Conv1D, Conv2D, Dropout, Flatten, MaxPooling2D, BatchNormalization, GlobalMaxPooling1D\n",
    "from tensorflow.keras import optimizers\n",
    "\n",
    "%matplotlib inline\n",
    "import matplotlib.pyplot as plt\n",
    "\n",
    "from tensorflow.keras import regularizers\n",
    "\n",
    "\n",
    "\n",
    "from sklearn.model_selection import StratifiedKFold, KFold\n",
    "from sklearn.metrics import classification_report,confusion_matrix\n",
    "from sklearn.metrics import accuracy_score\n",
    "from sklearn.preprocessing import StandardScaler\n",
    "from tensorflow.keras.utils import to_categorical\n",
    "\n",
    "# from utils.deep import preProcess\n",
    "from utils.visualize import showMe\n",
    "from config.armband import settings\n",
    "%load_ext autoreload\n",
    "%autoreload 2"
   ]
  },
  {
   "cell_type": "code",
   "execution_count": 2,
   "metadata": {},
   "outputs": [],
   "source": [
    "classes = settings[\"classes\"]\n",
    "\n",
    "def smoothLabels(label, factor = 0.):\n",
    "    label *= (1 - factor)\n",
    "    label += (factor / len(label))\n",
    "    return label\n",
    "\n",
    "def oneHot(label, classes = classes):\n",
    "    label = to_categorical(label,num_classes=len(classes))\n",
    "    return smoothLabels(label)\n",
    "\n",
    "def applyOneHot(data):\n",
    "    new = []\n",
    "    for y in data:\n",
    "        new.append(oneHot(y))\n",
    "    return np.array(new)\n",
    "\n",
    "def preProcess(data, input_length):\n",
    "    d = data.copy()\n",
    "    d = np.clip(d, -input_length, input_length)\n",
    "    d /= input_length\n",
    "    \n",
    "    return np.array(d)"
   ]
  },
  {
   "cell_type": "code",
   "execution_count": 3,
   "metadata": {},
   "outputs": [
    {
     "name": "stdout",
     "output_type": "stream",
     "text": [
      "Number of gesture samples: 124\n"
     ]
    }
   ],
   "source": [
    "resource_path = 'data/'\n",
    "data = []\n",
    "\n",
    "for subject in os.listdir(resource_path):\n",
    "    for gesture in os.listdir(resource_path + subject):\n",
    "        for file in os.listdir(resource_path + subject + '/' + gesture):\n",
    "            data.append([resource_path + subject + '/' + gesture + '/' + file])\n",
    "\n",
    "print('Number of gesture samples:', len(data))"
   ]
  },
  {
   "cell_type": "code",
   "execution_count": 4,
   "metadata": {},
   "outputs": [],
   "source": [
    "train_ratio = 0.8\n",
    "val_ratio = 0.1\n",
    "test_ratio = 1-(train_ratio+val_ratio)\n",
    "\n",
    "train_sessions = data[:int(len(data)*train_ratio)]\n",
    "val_sessions = data[int(len(data)*train_ratio):int(len(data)*(train_ratio+val_ratio))]\n",
    "test_sessions  = data[int(len(data)*(train_ratio+val_ratio)):]"
   ]
  },
  {
   "cell_type": "code",
   "execution_count": 5,
   "metadata": {},
   "outputs": [
    {
     "name": "stdout",
     "output_type": "stream",
     "text": [
      "99 12 13\n"
     ]
    }
   ],
   "source": [
    "print(len(train_sessions), len(val_sessions), len(test_sessions))"
   ]
  },
  {
   "cell_type": "code",
   "execution_count": 6,
   "metadata": {},
   "outputs": [],
   "source": [
    "input_length = 10000\n",
    "categories = []\n",
    "\n",
    "for _ in range(len(classes)):\n",
    "    categories.append([])\n",
    "\n",
    "gestures = list(map(lambda x: x[0].split('/')[-1].split('.')[0], train_sessions))\n",
    "\n",
    "for i, data_path in enumerate(train_sessions):\n",
    "    categories[classes.index(gestures[i])].append(np.load(data_path[0]))\n",
    "\n",
    "for i, category in enumerate(categories):\n",
    "    categories[i] = np.concatenate((category),axis=0)\n",
    "    # categories[i] = preProcess(categories[i], input_length)"
   ]
  },
  {
   "cell_type": "code",
   "execution_count": 7,
   "metadata": {},
   "outputs": [
    {
     "name": "stdout",
     "output_type": "stream",
     "text": [
      "(25, 8, 1000)\n"
     ]
    }
   ],
   "source": [
    "print(categories[0].shape)"
   ]
  },
  {
   "cell_type": "code",
   "execution_count": 8,
   "metadata": {},
   "outputs": [
    {
     "data": {
      "image/png": "[encoded data removed]",
      "text/plain": [
       "<Figure size 1224x144 with 8 Axes>"
      ]
     },
     "metadata": {
      "needs_background": "light"
     },
     "output_type": "display_data"
    }
   ],
   "source": [
    "for i in range(len(categories)):\n",
    "    rests_avg = categories[i].mean(axis=0)\n",
    "    showMe(rests_avg, range=[-input_length, input_length], clear=True)"
   ]
  },
  {
   "cell_type": "code",
   "execution_count": 9,
   "metadata": {},
   "outputs": [
    {
     "name": "stdout",
     "output_type": "stream",
     "text": [
      "[array([0., 0., 0., 0., 0., 0., 0., 0., 0., 0., 0., 0., 0., 0., 0., 0., 0.,\n",
      "       0., 0., 0., 0., 0., 0., 0., 0.]), array([1., 1., 1., 1., 1., 1., 1., 1., 1., 1., 1., 1., 1., 1., 1., 1., 1.,\n",
      "       1., 1., 1., 1., 1., 1., 1., 1.]), array([2., 2., 2., 2., 2., 2., 2., 2., 2., 2., 2., 2., 2., 2., 2., 2., 2.,\n",
      "       2., 2., 2., 2., 2., 2., 2.]), array([3., 3., 3., 3., 3., 3., 3., 3., 3., 3., 3., 3., 3., 3., 3., 3., 3.,\n",
      "       3., 3., 3., 3., 3., 3., 3., 3.])]\n",
      "[0. 0. 0. 0. 0. 0. 0. 0. 0. 0. 0. 0. 0. 0. 0. 0. 0. 0. 0. 0. 0. 0. 0. 0.\n",
      " 0. 1. 1. 1. 1. 1. 1. 1. 1. 1. 1. 1. 1. 1. 1. 1. 1. 1. 1. 1. 1. 1. 1. 1.\n",
      " 1. 1. 2. 2. 2. 2. 2. 2. 2. 2. 2. 2. 2. 2. 2. 2. 2. 2. 2. 2. 2. 2. 2. 2.\n",
      " 2. 2. 3. 3. 3. 3. 3. 3. 3. 3. 3. 3. 3. 3. 3. 3. 3. 3. 3. 3. 3. 3. 3. 3.\n",
      " 3. 3. 3.]\n",
      "[[1. 0. 0. 0.]\n",
      " [1. 0. 0. 0.]\n",
      " [0. 1. 0. 0.]\n",
      " [0. 1. 0. 0.]\n",
      " [0. 0. 1. 0.]\n",
      " [0. 0. 1. 0.]\n",
      " [0. 0. 0. 1.]\n",
      " [1. 0. 0. 0.]\n",
      " [0. 0. 0. 1.]\n",
      " [0. 0. 0. 1.]\n",
      " [0. 1. 0. 0.]\n",
      " [1. 0. 0. 0.]\n",
      " [0. 1. 0. 0.]\n",
      " [0. 1. 0. 0.]\n",
      " [0. 0. 1. 0.]\n",
      " [0. 1. 0. 0.]\n",
      " [0. 0. 1. 0.]\n",
      " [0. 1. 0. 0.]\n",
      " [0. 1. 0. 0.]\n",
      " [1. 0. 0. 0.]\n",
      " [0. 1. 0. 0.]\n",
      " [1. 0. 0. 0.]\n",
      " [0. 0. 1. 0.]\n",
      " [0. 0. 1. 0.]\n",
      " [1. 0. 0. 0.]\n",
      " [1. 0. 0. 0.]\n",
      " [0. 0. 0. 1.]\n",
      " [1. 0. 0. 0.]\n",
      " [0. 0. 0. 1.]\n",
      " [1. 0. 0. 0.]\n",
      " [1. 0. 0. 0.]\n",
      " [0. 0. 0. 1.]\n",
      " [0. 0. 0. 1.]\n",
      " [0. 0. 1. 0.]\n",
      " [0. 1. 0. 0.]\n",
      " [0. 0. 0. 1.]\n",
      " [1. 0. 0. 0.]\n",
      " [0. 0. 1. 0.]\n",
      " [0. 1. 0. 0.]\n",
      " [0. 1. 0. 0.]\n",
      " [0. 0. 1. 0.]\n",
      " [0. 0. 0. 1.]\n",
      " [0. 1. 0. 0.]\n",
      " [0. 0. 0. 1.]\n",
      " [0. 1. 0. 0.]\n",
      " [1. 0. 0. 0.]\n",
      " [1. 0. 0. 0.]\n",
      " [1. 0. 0. 0.]\n",
      " [0. 1. 0. 0.]\n",
      " [0. 0. 1. 0.]\n",
      " [0. 0. 0. 1.]\n",
      " [0. 0. 0. 1.]\n",
      " [0. 0. 1. 0.]\n",
      " [0. 0. 1. 0.]\n",
      " [0. 0. 1. 0.]\n",
      " [0. 0. 0. 1.]\n",
      " [0. 0. 0. 1.]\n",
      " [0. 0. 1. 0.]\n",
      " [0. 0. 1. 0.]\n",
      " [0. 0. 0. 1.]\n",
      " [0. 0. 1. 0.]\n",
      " [0. 0. 0. 1.]\n",
      " [0. 0. 0. 1.]\n",
      " [1. 0. 0. 0.]\n",
      " [0. 1. 0. 0.]\n",
      " [0. 1. 0. 0.]\n",
      " [0. 0. 1. 0.]\n",
      " [1. 0. 0. 0.]\n",
      " [1. 0. 0. 0.]\n",
      " [0. 0. 0. 1.]\n",
      " [0. 1. 0. 0.]\n",
      " [1. 0. 0. 0.]\n",
      " [0. 1. 0. 0.]\n",
      " [0. 0. 0. 1.]\n",
      " [0. 0. 0. 1.]\n",
      " [0. 0. 1. 0.]\n",
      " [0. 0. 0. 1.]\n",
      " [1. 0. 0. 0.]\n",
      " [0. 0. 1. 0.]\n",
      " [0. 0. 1. 0.]\n",
      " [0. 0. 0. 1.]\n",
      " [0. 1. 0. 0.]\n",
      " [0. 0. 1. 0.]\n",
      " [0. 1. 0. 0.]\n",
      " [0. 0. 1. 0.]\n",
      " [0. 1. 0. 0.]\n",
      " [1. 0. 0. 0.]\n",
      " [1. 0. 0. 0.]\n",
      " [0. 0. 0. 1.]\n",
      " [0. 0. 1. 0.]\n",
      " [1. 0. 0. 0.]\n",
      " [0. 0. 0. 1.]\n",
      " [0. 1. 0. 0.]\n",
      " [1. 0. 0. 0.]\n",
      " [0. 1. 0. 0.]\n",
      " [0. 0. 1. 0.]\n",
      " [0. 1. 0. 0.]\n",
      " [0. 0. 0. 1.]\n",
      " [1. 0. 0. 0.]]\n"
     ]
    }
   ],
   "source": [
    "y = []\n",
    "\n",
    "for i in range(len(categories)):\n",
    "    if i == 0:\n",
    "        y.append(np.zeros(categories[0].shape[0]))\n",
    "    else:\n",
    "        y.append(np.ones(categories[i].shape[0])*i)\n",
    "\n",
    "X = np.concatenate(categories, axis = 0)\n",
    "print(y)\n",
    "y = np.concatenate(y, axis = 0)\n",
    "print(y)\n",
    "\n",
    "\n",
    "#SHUFFLE DATA\n",
    "c = list(zip(X, y))\n",
    "random.shuffle(c)\n",
    "X,y = zip(*c)\n",
    "X = np.array(X)\n",
    "y = np.array(y)\n",
    "# print(y)\n",
    "\n",
    "y = applyOneHot(y)\n",
    "print(y)"
   ]
  },
  {
   "cell_type": "code",
   "execution_count": 10,
   "metadata": {},
   "outputs": [
    {
     "name": "stdout",
     "output_type": "stream",
     "text": [
      "(198, 8, 1000)\n",
      "(198, 4)\n"
     ]
    }
   ],
   "source": [
    "noise = np.random.normal(0,0.1,X.size)\n",
    "noise = np.reshape(noise,X.shape)\n",
    "\n",
    "augmented = X + noise\n",
    "X_aug = np.concatenate((X,augmented))\n",
    "y_aug = np.concatenate((y,y))\n",
    "\n",
    "print(X_aug.shape)\n",
    "print(y_aug.shape)"
   ]
  },
  {
   "cell_type": "code",
   "execution_count": 11,
   "metadata": {},
   "outputs": [],
   "source": [
    "def get_hyper_model(hp):\n",
    "    model = keras.Sequential()\n",
    "    inspected_chanels= X.shape[1]\n",
    "    input_length=     X.shape[2]\n",
    "    input_layer = keras.Input(shape = (inspected_chanels,input_length), name='input')\n",
    "    x = layers.Flatten()(input_layer)\n",
    "    l2 = 0.001\n",
    "    for i in range(hp.Choice('n_layers',[1,2,4,6])):\n",
    "        x     = layers.Dense(hp.Int('dense',min_value=10,max_value=1000,sampling=\"log\"),kernel_regularizer=regularizers.l2(l2))(x)\n",
    "        x     = layers.BatchNormalization()(x)\n",
    "        x     = layers.Dropout(hp.Choice('dropout',[0., 0.1,0.2]))(x)\n",
    "\n",
    "\n",
    "    output = layers.Dense(3, activation='softmax')(x)\n",
    "    model = keras.Model(inputs=input_layer, outputs=output)\n",
    "\n",
    "\n",
    "    lr_schedule = keras.optimizers.schedules.ExponentialDecay(\n",
    "        initial_learning_rate=hp.Float(\"lr\", min_value=1e-4, max_value=1e-2, sampling=\"log\"),\n",
    "        decay_steps=batch_size*10,\n",
    "        decay_rate=hp.Choice('decay',[0.1,0.9]))\n",
    "\n",
    "\n",
    "    model.compile(\n",
    "        optimizer=keras.optimizers.Adam(learning_rate=lr_schedule),\n",
    "        loss=\"categorical_crossentropy\",\n",
    "        metrics=[\"accuracy\"],\n",
    "    )\n",
    "    model.summary()\n",
    "    return model"
   ]
  },
  {
   "cell_type": "code",
   "execution_count": 19,
   "metadata": {},
   "outputs": [
    {
     "name": "stdout",
     "output_type": "stream",
     "text": [
      "(89, 8, 1000)\n",
      "(89, 4)\n",
      "Batch size: 32\n",
      "INFO:tensorflow:Reloading Oracle from existing project .\\untitled_project\\oracle.json\n",
      "Model: \"model_1\"\n",
      "_________________________________________________________________\n",
      " Layer (type)                Output Shape              Param #   \n",
      "=================================================================\n",
      " input (InputLayer)          [(None, 8, 1000)]         0         \n",
      "                                                                 \n",
      " flatten_1 (Flatten)         (None, 8000)              0         \n",
      "                                                                 \n",
      " dense_2 (Dense)             (None, 10)                80010     \n",
      "                                                                 \n",
      " batch_normalization_1 (Batc  (None, 10)               40        \n",
      " hNormalization)                                                 \n",
      "                                                                 \n",
      " dropout_1 (Dropout)         (None, 10)                0         \n",
      "                                                                 \n",
      " dense_3 (Dense)             (None, 3)                 33        \n",
      "                                                                 \n",
      "=================================================================\n",
      "Total params: 80,083\n",
      "Trainable params: 80,063\n",
      "Non-trainable params: 20\n",
      "_________________________________________________________________\n",
      "\n",
      "Search: Running Trial #1\n",
      "\n",
      "Value             |Best Value So Far |Hyperparameter\n",
      "1                 |?                 |n_layers\n",
      "64                |?                 |dense\n",
      "0                 |?                 |dropout\n",
      "0.00022431        |?                 |lr\n",
      "0.1               |?                 |decay\n",
      "\n",
      "Model: \"model\"\n",
      "_________________________________________________________________\n",
      " Layer (type)                Output Shape              Param #   \n",
      "=================================================================\n",
      " input (InputLayer)          [(None, 8, 1000)]         0         \n",
      "                                                                 \n",
      " flatten (Flatten)           (None, 8000)              0         \n",
      "                                                                 \n",
      " dense (Dense)               (None, 64)                512064    \n",
      "                                                                 \n",
      " batch_normalization (BatchN  (None, 64)               256       \n",
      " ormalization)                                                   \n",
      "                                                                 \n",
      " dropout (Dropout)           (None, 64)                0         \n",
      "                                                                 \n",
      " dense_1 (Dense)             (None, 3)                 195       \n",
      "                                                                 \n",
      "=================================================================\n",
      "Total params: 512,515\n",
      "Trainable params: 512,387\n",
      "Non-trainable params: 128\n",
      "_________________________________________________________________\n",
      "Epoch 1/100\n"
     ]
    },
    {
     "name": "stderr",
     "output_type": "stream",
     "text": [
      "C:\\Users\\Gyuri\\AppData\\Roaming\\Python\\Python310\\site-packages\\tensorflow\\python\\data\\ops\\structured_function.py:264: UserWarning: Even though the `tf.config.experimental_run_functions_eagerly` option is set, this option does not apply to tf.data functions. To force eager execution of tf.data functions, please use `tf.data.experimental.enable_debug_mode()`.\n",
      "  warnings.warn(\n"
     ]
    },
    {
     "ename": "ValueError",
     "evalue": "Shapes (32, 4) and (32, 3) are incompatible",
     "output_type": "error",
     "traceback": [
      "\u001b[1;31m---------------------------------------------------------------------------\u001b[0m",
      "\u001b[1;31mValueError\u001b[0m                                Traceback (most recent call last)",
      "\u001b[1;32mc:\\Users\\Gyuri\\Desktop\\Coding\\Python\\Armband\\notebooks\\model.ipynb Cell 12\u001b[0m in \u001b[0;36m<cell line: 4>\u001b[1;34m()\u001b[0m\n\u001b[0;32m     <a href='vscode-notebook-cell:/c%3A/Users/Gyuri/Desktop/Coding/Python/Armband/notebooks/model.ipynb#X14sZmlsZQ%3D%3D?line=14'>15</a>\u001b[0m \u001b[39mprint\u001b[39m(\u001b[39m\"\u001b[39m\u001b[39mBatch size: \u001b[39m\u001b[39m{}\u001b[39;00m\u001b[39m\"\u001b[39m\u001b[39m.\u001b[39mformat(batch_size))\n\u001b[0;32m     <a href='vscode-notebook-cell:/c%3A/Users/Gyuri/Desktop/Coding/Python/Armband/notebooks/model.ipynb#X14sZmlsZQ%3D%3D?line=16'>17</a>\u001b[0m tuner \u001b[39m=\u001b[39m kt\u001b[39m.\u001b[39mtuners\u001b[39m.\u001b[39mRandomSearch(\n\u001b[0;32m     <a href='vscode-notebook-cell:/c%3A/Users/Gyuri/Desktop/Coding/Python/Armband/notebooks/model.ipynb#X14sZmlsZQ%3D%3D?line=17'>18</a>\u001b[0m     get_hyper_model,\n\u001b[0;32m     <a href='vscode-notebook-cell:/c%3A/Users/Gyuri/Desktop/Coding/Python/Armband/notebooks/model.ipynb#X14sZmlsZQ%3D%3D?line=18'>19</a>\u001b[0m     objective\u001b[39m=\u001b[39m\u001b[39m'\u001b[39m\u001b[39mval_accuracy\u001b[39m\u001b[39m'\u001b[39m,\n\u001b[0;32m     <a href='vscode-notebook-cell:/c%3A/Users/Gyuri/Desktop/Coding/Python/Armband/notebooks/model.ipynb#X14sZmlsZQ%3D%3D?line=19'>20</a>\u001b[0m     max_trials\u001b[39m=\u001b[39m\u001b[39m100\u001b[39m)\n\u001b[1;32m---> <a href='vscode-notebook-cell:/c%3A/Users/Gyuri/Desktop/Coding/Python/Armband/notebooks/model.ipynb#X14sZmlsZQ%3D%3D?line=21'>22</a>\u001b[0m tuner\u001b[39m.\u001b[39;49msearch(   X_train,\n\u001b[0;32m     <a href='vscode-notebook-cell:/c%3A/Users/Gyuri/Desktop/Coding/Python/Armband/notebooks/model.ipynb#X14sZmlsZQ%3D%3D?line=22'>23</a>\u001b[0m                 y_train,\n\u001b[0;32m     <a href='vscode-notebook-cell:/c%3A/Users/Gyuri/Desktop/Coding/Python/Armband/notebooks/model.ipynb#X14sZmlsZQ%3D%3D?line=23'>24</a>\u001b[0m                 validation_data\u001b[39m=\u001b[39;49m(X_test, y_test),\n\u001b[0;32m     <a href='vscode-notebook-cell:/c%3A/Users/Gyuri/Desktop/Coding/Python/Armband/notebooks/model.ipynb#X14sZmlsZQ%3D%3D?line=24'>25</a>\u001b[0m                 batch_size\u001b[39m=\u001b[39;49mbatch_size,\n\u001b[0;32m     <a href='vscode-notebook-cell:/c%3A/Users/Gyuri/Desktop/Coding/Python/Armband/notebooks/model.ipynb#X14sZmlsZQ%3D%3D?line=25'>26</a>\u001b[0m                 epochs\u001b[39m=\u001b[39;49m\u001b[39m100\u001b[39;49m,\n\u001b[0;32m     <a href='vscode-notebook-cell:/c%3A/Users/Gyuri/Desktop/Coding/Python/Armband/notebooks/model.ipynb#X14sZmlsZQ%3D%3D?line=26'>27</a>\u001b[0m                 shuffle\u001b[39m=\u001b[39;49m\u001b[39mTrue\u001b[39;49;00m)\n\u001b[0;32m     <a href='vscode-notebook-cell:/c%3A/Users/Gyuri/Desktop/Coding/Python/Armband/notebooks/model.ipynb#X14sZmlsZQ%3D%3D?line=28'>29</a>\u001b[0m best_model \u001b[39m=\u001b[39m tuner\u001b[39m.\u001b[39mget_best_models()[\u001b[39m0\u001b[39m]\n\u001b[0;32m     <a href='vscode-notebook-cell:/c%3A/Users/Gyuri/Desktop/Coding/Python/Armband/notebooks/model.ipynb#X14sZmlsZQ%3D%3D?line=30'>31</a>\u001b[0m \u001b[39mbreak\u001b[39;00m\n",
      "File \u001b[1;32mc:\\Users\\Gyuri\\AppData\\Local\\Programs\\Python\\Python310\\lib\\site-packages\\keras_tuner\\engine\\base_tuner.py:179\u001b[0m, in \u001b[0;36mBaseTuner.search\u001b[1;34m(self, *fit_args, **fit_kwargs)\u001b[0m\n\u001b[0;32m    176\u001b[0m     \u001b[39mcontinue\u001b[39;00m\n\u001b[0;32m    178\u001b[0m \u001b[39mself\u001b[39m\u001b[39m.\u001b[39mon_trial_begin(trial)\n\u001b[1;32m--> 179\u001b[0m results \u001b[39m=\u001b[39m \u001b[39mself\u001b[39m\u001b[39m.\u001b[39mrun_trial(trial, \u001b[39m*\u001b[39mfit_args, \u001b[39m*\u001b[39m\u001b[39m*\u001b[39mfit_kwargs)\n\u001b[0;32m    180\u001b[0m \u001b[39m# `results` is None indicates user updated oracle in `run_trial()`.\u001b[39;00m\n\u001b[0;32m    181\u001b[0m \u001b[39mif\u001b[39;00m results \u001b[39mis\u001b[39;00m \u001b[39mNone\u001b[39;00m:\n",
      "File \u001b[1;32mc:\\Users\\Gyuri\\AppData\\Local\\Programs\\Python\\Python310\\lib\\site-packages\\keras_tuner\\engine\\tuner.py:294\u001b[0m, in \u001b[0;36mTuner.run_trial\u001b[1;34m(self, trial, *args, **kwargs)\u001b[0m\n\u001b[0;32m    292\u001b[0m     callbacks\u001b[39m.\u001b[39mappend(model_checkpoint)\n\u001b[0;32m    293\u001b[0m     copied_kwargs[\u001b[39m\"\u001b[39m\u001b[39mcallbacks\u001b[39m\u001b[39m\"\u001b[39m] \u001b[39m=\u001b[39m callbacks\n\u001b[1;32m--> 294\u001b[0m     obj_value \u001b[39m=\u001b[39m \u001b[39mself\u001b[39m\u001b[39m.\u001b[39m_build_and_fit_model(trial, \u001b[39m*\u001b[39margs, \u001b[39m*\u001b[39m\u001b[39m*\u001b[39mcopied_kwargs)\n\u001b[0;32m    296\u001b[0m     histories\u001b[39m.\u001b[39mappend(obj_value)\n\u001b[0;32m    297\u001b[0m \u001b[39mreturn\u001b[39;00m histories\n",
      "File \u001b[1;32mc:\\Users\\Gyuri\\AppData\\Local\\Programs\\Python\\Python310\\lib\\site-packages\\keras_tuner\\engine\\tuner.py:222\u001b[0m, in \u001b[0;36mTuner._build_and_fit_model\u001b[1;34m(self, trial, *args, **kwargs)\u001b[0m\n\u001b[0;32m    220\u001b[0m hp \u001b[39m=\u001b[39m trial\u001b[39m.\u001b[39mhyperparameters\n\u001b[0;32m    221\u001b[0m model \u001b[39m=\u001b[39m \u001b[39mself\u001b[39m\u001b[39m.\u001b[39m_try_build(hp)\n\u001b[1;32m--> 222\u001b[0m results \u001b[39m=\u001b[39m \u001b[39mself\u001b[39m\u001b[39m.\u001b[39mhypermodel\u001b[39m.\u001b[39mfit(hp, model, \u001b[39m*\u001b[39margs, \u001b[39m*\u001b[39m\u001b[39m*\u001b[39mkwargs)\n\u001b[0;32m    223\u001b[0m \u001b[39mreturn\u001b[39;00m tuner_utils\u001b[39m.\u001b[39mconvert_to_metrics_dict(\n\u001b[0;32m    224\u001b[0m     results, \u001b[39mself\u001b[39m\u001b[39m.\u001b[39moracle\u001b[39m.\u001b[39mobjective, \u001b[39m\"\u001b[39m\u001b[39mHyperModel.fit()\u001b[39m\u001b[39m\"\u001b[39m\n\u001b[0;32m    225\u001b[0m )\n",
      "File \u001b[1;32mc:\\Users\\Gyuri\\AppData\\Local\\Programs\\Python\\Python310\\lib\\site-packages\\keras_tuner\\engine\\hypermodel.py:137\u001b[0m, in \u001b[0;36mHyperModel.fit\u001b[1;34m(self, hp, model, *args, **kwargs)\u001b[0m\n\u001b[0;32m    113\u001b[0m \u001b[39mdef\u001b[39;00m \u001b[39mfit\u001b[39m(\u001b[39mself\u001b[39m, hp, model, \u001b[39m*\u001b[39margs, \u001b[39m*\u001b[39m\u001b[39m*\u001b[39mkwargs):\n\u001b[0;32m    114\u001b[0m     \u001b[39m\"\"\"Train the model.\u001b[39;00m\n\u001b[0;32m    115\u001b[0m \n\u001b[0;32m    116\u001b[0m \u001b[39m    Args:\u001b[39;00m\n\u001b[1;32m   (...)\u001b[0m\n\u001b[0;32m    135\u001b[0m \u001b[39m        If return a float, it should be the `objective` value.\u001b[39;00m\n\u001b[0;32m    136\u001b[0m \u001b[39m    \"\"\"\u001b[39;00m\n\u001b[1;32m--> 137\u001b[0m     \u001b[39mreturn\u001b[39;00m model\u001b[39m.\u001b[39mfit(\u001b[39m*\u001b[39margs, \u001b[39m*\u001b[39m\u001b[39m*\u001b[39mkwargs)\n",
      "File \u001b[1;32mc:\\Users\\Gyuri\\AppData\\Local\\Programs\\Python\\Python310\\lib\\site-packages\\keras\\utils\\traceback_utils.py:67\u001b[0m, in \u001b[0;36mfilter_traceback.<locals>.error_handler\u001b[1;34m(*args, **kwargs)\u001b[0m\n\u001b[0;32m     65\u001b[0m \u001b[39mexcept\u001b[39;00m \u001b[39mException\u001b[39;00m \u001b[39mas\u001b[39;00m e:  \u001b[39m# pylint: disable=broad-except\u001b[39;00m\n\u001b[0;32m     66\u001b[0m   filtered_tb \u001b[39m=\u001b[39m _process_traceback_frames(e\u001b[39m.\u001b[39m__traceback__)\n\u001b[1;32m---> 67\u001b[0m   \u001b[39mraise\u001b[39;00m e\u001b[39m.\u001b[39mwith_traceback(filtered_tb) \u001b[39mfrom\u001b[39;00m \u001b[39mNone\u001b[39m\n\u001b[0;32m     68\u001b[0m \u001b[39mfinally\u001b[39;00m:\n\u001b[0;32m     69\u001b[0m   \u001b[39mdel\u001b[39;00m filtered_tb\n",
      "File \u001b[1;32mc:\\Users\\Gyuri\\AppData\\Local\\Programs\\Python\\Python310\\lib\\site-packages\\keras\\backend.py:5119\u001b[0m, in \u001b[0;36mcategorical_crossentropy\u001b[1;34m(target, output, from_logits, axis)\u001b[0m\n\u001b[0;32m   5117\u001b[0m target \u001b[39m=\u001b[39m tf\u001b[39m.\u001b[39mconvert_to_tensor(target)\n\u001b[0;32m   5118\u001b[0m output \u001b[39m=\u001b[39m tf\u001b[39m.\u001b[39mconvert_to_tensor(output)\n\u001b[1;32m-> 5119\u001b[0m target\u001b[39m.\u001b[39;49mshape\u001b[39m.\u001b[39;49massert_is_compatible_with(output\u001b[39m.\u001b[39;49mshape)\n\u001b[0;32m   5121\u001b[0m \u001b[39m# Use logits whenever they are available. `softmax` and `sigmoid`\u001b[39;00m\n\u001b[0;32m   5122\u001b[0m \u001b[39m# activations cache logits on the `output` Tensor.\u001b[39;00m\n\u001b[0;32m   5123\u001b[0m \u001b[39mif\u001b[39;00m \u001b[39mhasattr\u001b[39m(output, \u001b[39m'\u001b[39m\u001b[39m_keras_logits\u001b[39m\u001b[39m'\u001b[39m):\n",
      "\u001b[1;31mValueError\u001b[0m: Shapes (32, 4) and (32, 3) are incompatible"
     ]
    }
   ],
   "source": [
    "skf = StratifiedKFold(n_splits=10)\n",
    "tf.config.run_functions_eagerly(True)\n",
    "\n",
    "for train, test in skf.split(X, y.argmax(axis=1)):\n",
    "\n",
    "    X_train = X[train]\n",
    "    X_test  = X[test]\n",
    "    y_train = y[train]\n",
    "    y_test  = y[test]\n",
    "\n",
    "    print(X_train.shape)\n",
    "    print(y_train.shape)\n",
    "\n",
    "    batch_size = 32 #len(X_train)\n",
    "    print(\"Batch size: {}\".format(batch_size))\n",
    "\n",
    "    tuner = kt.tuners.RandomSearch(\n",
    "        get_hyper_model,\n",
    "        objective='val_accuracy',\n",
    "        max_trials=100)\n",
    "\n",
    "    tuner.search(   X_train,\n",
    "                    y_train,\n",
    "                    validation_data=(X_test, y_test),\n",
    "                    batch_size=batch_size,\n",
    "                    epochs=100,\n",
    "                    shuffle=True)\n",
    "\n",
    "    best_model = tuner.get_best_models()[0]\n",
    "                             \n",
    "    break\n",
    "   "
   ]
  }
 ],
 "metadata": {
  "kernelspec": {
   "display_name": "Python 3.10.2 64-bit",
   "language": "python",
   "name": "python3"
  },
  "language_info": {
   "codemirror_mode": {
    "name": "ipython",
    "version": 3
   },
   "file_extension": ".py",
   "mimetype": "text/x-python",
   "name": "python",
   "nbconvert_exporter": "python",
   "pygments_lexer": "ipython3",
   "version": "3.10.2"
  },
  "orig_nbformat": 4,
  "vscode": {
   "interpreter": {
    "hash": "2e8107a483a1a2a799886d935070cc2750fd8aafb5e2e9ab37a8c6293ca6136f"
   }
  }
 },
 "nbformat": 4,
 "nbformat_minor": 2
}
