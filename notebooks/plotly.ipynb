{
 "cells": [
  {
   "cell_type": "code",
   "execution_count": 1,
   "metadata": {},
   "outputs": [],
   "source": [
    "import plotly\n",
    "import datetime\n",
    "import time\n",
    "import numpy as np\n",
    "import json"
   ]
  },
  {
   "cell_type": "code",
   "execution_count": 2,
   "metadata": {},
   "outputs": [
    {
     "ename": "AttributeError",
     "evalue": "module 'plotly' has no attribute 'stream'",
     "output_type": "error",
     "traceback": [
      "\u001b[1;31m---------------------------------------------------------------------------\u001b[0m",
      "\u001b[1;31mAttributeError\u001b[0m                            Traceback (most recent call last)",
      "\u001b[1;32mc:\\Code\\Armband\\notebooks\\plotly.ipynb Cell 2\u001b[0m in \u001b[0;36m<cell line: 1>\u001b[1;34m()\u001b[0m\n\u001b[1;32m----> <a href='vscode-notebook-cell:/c%3A/Code/Armband/notebooks/plotly.ipynb#W1sZmlsZQ%3D%3D?line=0'>1</a>\u001b[0m s \u001b[39m=\u001b[39m plotly\u001b[39m.\u001b[39;49mstream(stream_token)\n\u001b[0;32m      <a href='vscode-notebook-cell:/c%3A/Code/Armband/notebooks/plotly.ipynb#W1sZmlsZQ%3D%3D?line=1'>2</a>\u001b[0m i\u001b[39m=\u001b[39m\u001b[39m0\u001b[39m\n\u001b[0;32m      <a href='vscode-notebook-cell:/c%3A/Code/Armband/notebooks/plotly.ipynb#W1sZmlsZQ%3D%3D?line=2'>3</a>\u001b[0m k \u001b[39m=\u001b[39m \u001b[39m5\u001b[39m\n",
      "File \u001b[1;32mc:\\Users\\Asura\\AppData\\Local\\Programs\\Python\\Python310\\lib\\site-packages\\_plotly_utils\\importers.py:39\u001b[0m, in \u001b[0;36mrelative_import.<locals>.__getattr__\u001b[1;34m(import_name)\u001b[0m\n\u001b[0;32m     36\u001b[0m     class_module \u001b[39m=\u001b[39m importlib\u001b[39m.\u001b[39mimport_module(rel_module, parent_name)\n\u001b[0;32m     37\u001b[0m     \u001b[39mreturn\u001b[39;00m \u001b[39mgetattr\u001b[39m(class_module, class_name)\n\u001b[1;32m---> 39\u001b[0m \u001b[39mraise\u001b[39;00m \u001b[39mAttributeError\u001b[39;00m(\n\u001b[0;32m     40\u001b[0m     \u001b[39m\"\u001b[39m\u001b[39mmodule \u001b[39m\u001b[39m{__name__!r}\u001b[39;00m\u001b[39m has no attribute \u001b[39m\u001b[39m{name!r}\u001b[39;00m\u001b[39m\"\u001b[39m\u001b[39m.\u001b[39mformat(\n\u001b[0;32m     41\u001b[0m         name\u001b[39m=\u001b[39mimport_name, \u001b[39m__name__\u001b[39m\u001b[39m=\u001b[39mparent_name\n\u001b[0;32m     42\u001b[0m     )\n\u001b[0;32m     43\u001b[0m )\n",
      "\u001b[1;31mAttributeError\u001b[0m: module 'plotly' has no attribute 'stream'"
     ]
    }
   ],
   "source": [
    "s = plotly.stream(stream_token)\n",
    "i=0\n",
    "k = 5\n",
    "while True:\n",
    "    i+=1\n",
    "    # log current time and a random number\n",
    "    x_data_point = datetime.datetime.now().strftime('%Y-%m-%d %H:%M:%S.%f')\n",
    "    y_data_point = (np.cos(k*i/50.)*np.cos(i/50.)+np.random.randn(1))[0]\n",
    "    \n",
    "    s.write({'x': x_data_point, 'y': y_data_point})\n",
    "    time.sleep(80./1000.)"
   ]
  },
  {
   "cell_type": "code",
   "execution_count": null,
   "metadata": {},
   "outputs": [],
   "source": []
  }
 ],
 "metadata": {
  "kernelspec": {
   "display_name": "Python 3.10.5 64-bit",
   "language": "python",
   "name": "python3"
  },
  "language_info": {
   "codemirror_mode": {
    "name": "ipython",
    "version": 3
   },
   "file_extension": ".py",
   "mimetype": "text/x-python",
   "name": "python",
   "nbconvert_exporter": "python",
   "pygments_lexer": "ipython3",
   "version": "3.10.5"
  },
  "orig_nbformat": 4,
  "vscode": {
   "interpreter": {
    "hash": "9c3bc4468e177b571f977f49ff15cc38e604c760649959177f542892930a62a4"
   }
  }
 },
 "nbformat": 4,
 "nbformat_minor": 2
}
