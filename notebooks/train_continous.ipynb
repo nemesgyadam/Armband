{
 "cells": [
  {
   "cell_type": "code",
   "execution_count": 1,
   "metadata": {},
   "outputs": [
    {
     "name": "stdout",
     "output_type": "stream",
     "text": [
      "c:\\Code\\Armband\n"
     ]
    }
   ],
   "source": [
    "%cd .."
   ]
  },
  {
   "cell_type": "code",
   "execution_count": 15,
   "metadata": {},
   "outputs": [
    {
     "name": "stdout",
     "output_type": "stream",
     "text": [
      "The autoreload extension is already loaded. To reload it, use:\n",
      "  %reload_ext autoreload\n"
     ]
    }
   ],
   "source": [
    "import numpy as np\n",
    "import pandas as pd\n",
    "import random\n",
    "import os\n",
    "#import keras_tuner as kt\n",
    "from scipy import signal\n",
    "from matplotlib import pyplot as plt\n",
    "from sklearn.model_selection import train_test_split\n",
    "from sklearn.metrics import accuracy_score\n",
    "import tensorflow as tf\n",
    "from tensorflow import keras\n",
    "from tensorflow.keras.models import Sequential\n",
    "from tensorflow.keras import layers as layers\n",
    "from tensorflow.keras.layers import GlobalMaxPooling2D, Activation, Dense, Conv1D, Conv2D, Dropout, Flatten, MaxPooling2D, BatchNormalization, GlobalMaxPooling1D\n",
    "from tensorflow.keras import optimizers\n",
    "\n",
    "%matplotlib inline\n",
    "import matplotlib.pyplot as plt\n",
    "\n",
    "from tensorflow.keras import regularizers\n",
    "\n",
    "\n",
    "\n",
    "from sklearn.model_selection import StratifiedKFold, KFold\n",
    "from sklearn.metrics import classification_report,confusion_matrix\n",
    "from sklearn.metrics import accuracy_score\n",
    "from tensorflow.keras.utils import to_categorical\n",
    "from sklearn.metrics import confusion_matrix\n",
    "from utils.signal import DCFilter, normalize\n",
    "from utils.visualize import showMe, showHistory, showAvg\n",
    "from utils.augment import apply_augment\n",
    "\n",
    "from utils.models.conv_classifier import get_conv_classifier\n",
    "from utils.models.conv_classifier2 import get_conv_classifier2\n",
    "from utils.models.dense_classifier import get_dense_classifier\n",
    "from utils.models.regression.conv import get_model\n",
    "from utils.data import load_set, pre_process_set, format2train, shuffle\n",
    "from utils.sampler_generator import SamplerGenerator\n",
    "from config.continous import settings\n",
    "from utils.visualizer import Visualizer\n",
    "%load_ext autoreload\n",
    "%autoreload 2"
   ]
  },
  {
   "cell_type": "code",
   "execution_count": 22,
   "metadata": {},
   "outputs": [],
   "source": [
    "end_label = False\n",
    "generator = SamplerGenerator(settings, batch_size=64, n_steps = 500, end_label=end_label)\n",
    "vis = Visualizer()"
   ]
  },
  {
   "cell_type": "code",
   "execution_count": 23,
   "metadata": {},
   "outputs": [
    {
     "data": {
      "text/plain": [
       "array([[[ 0.87344211,  0.87324934,  0.87305658, ...,  0.907834  ,\n",
       "          0.90653144,  0.90522888],\n",
       "        [-0.84127566, -0.84054252, -0.83980938, ..., -0.85960411,\n",
       "         -0.85997067, -0.86033724]],\n",
       "\n",
       "       [[ 0.69768058,  0.69768058,  0.69768058, ...,  0.92085704,\n",
       "          0.93404753,  0.94723803],\n",
       "        [-0.07954545, -0.07954545, -0.07954545, ..., -0.39525692,\n",
       "         -0.35968379, -0.32411067]],\n",
       "\n",
       "       [[ 0.40665012,  0.40665012,  0.40665012, ...,  0.54088361,\n",
       "          0.54013745,  0.53939129],\n",
       "        [-0.20711144, -0.19941349, -0.19171554, ..., -0.25889328,\n",
       "         -0.25790514, -0.256917  ]],\n",
       "\n",
       "       ...,\n",
       "\n",
       "       [[ 0.66274318,  0.6610795 ,  0.65941581, ...,  0.7341199 ,\n",
       "          0.71934878,  0.70457766],\n",
       "        [-0.07954545, -0.07954545, -0.07954545, ..., -0.08201581,\n",
       "         -0.08152174, -0.08102767]],\n",
       "\n",
       "       [[ 0.38158369,  0.38051353,  0.37944338, ...,  0.34950135,\n",
       "          0.34945954,  0.34941773],\n",
       "        [ 0.15752993,  0.15311909,  0.14870825, ..., -0.08371212,\n",
       "         -0.08333333, -0.08295455]],\n",
       "\n",
       "       [[ 0.45332152,  0.45332152,  0.45332152, ...,  0.20703176,\n",
       "          0.20703176,  0.20703176],\n",
       "        [-0.33250988, -0.32411067, -0.31571146, ..., -0.13233138,\n",
       "         -0.12939883, -0.12646628]]])"
      ]
     },
     "execution_count": 23,
     "metadata": {},
     "output_type": "execute_result"
    }
   ],
   "source": [
    "generator.__getitem__(0)[1]"
   ]
  },
  {
   "cell_type": "code",
   "execution_count": 25,
   "metadata": {},
   "outputs": [
    {
     "name": "stdout",
     "output_type": "stream",
     "text": [
      "Model: \"model_3\"\n",
      "__________________________________________________________________________________________________\n",
      "Layer (type)                    Output Shape         Param #     Connected to                     \n",
      "==================================================================================================\n",
      "input (InputLayer)              [(None, 8, 500)]     0                                            \n",
      "__________________________________________________________________________________________________\n",
      "reshape_3 (Reshape)             (None, 8, 500, 1)    0           input[0][0]                      \n",
      "__________________________________________________________________________________________________\n",
      "average_pooling2d_9 (AveragePoo (None, 8, 250, 1)    0           reshape_3[0][0]                  \n",
      "__________________________________________________________________________________________________\n",
      "conv2d_6 (Conv2D)               (None, 8, 250, 100)  10100       average_pooling2d_9[0][0]        \n",
      "__________________________________________________________________________________________________\n",
      "batch_normalization_9 (BatchNor (None, 8, 250, 100)  400         conv2d_6[0][0]                   \n",
      "__________________________________________________________________________________________________\n",
      "average_pooling2d_10 (AveragePo (None, 8, 2, 100)    0           batch_normalization_9[0][0]      \n",
      "__________________________________________________________________________________________________\n",
      "conv2d_7 (Conv2D)               (None, 8, 2, 100)    10100       average_pooling2d_10[0][0]       \n",
      "__________________________________________________________________________________________________\n",
      "batch_normalization_10 (BatchNo (None, 8, 2, 100)    400         conv2d_7[0][0]                   \n",
      "__________________________________________________________________________________________________\n",
      "average_pooling2d_11 (AveragePo (None, 8, 2, 100)    0           batch_normalization_10[0][0]     \n",
      "__________________________________________________________________________________________________\n",
      "batch_normalization_11 (BatchNo (None, 8, 2, 100)    400         average_pooling2d_11[0][0]       \n",
      "__________________________________________________________________________________________________\n",
      "flatten_3 (Flatten)             (None, 1600)         0           batch_normalization_11[0][0]     \n",
      "__________________________________________________________________________________________________\n",
      "dense_9 (Dense)                 (None, 20)           32020       flatten_3[0][0]                  \n",
      "__________________________________________________________________________________________________\n",
      "dropout_3 (Dropout)             (None, 20)           0           dense_9[0][0]                    \n",
      "__________________________________________________________________________________________________\n",
      "dense_10 (Dense)                (None, 500)          10500       dropout_3[0][0]                  \n",
      "__________________________________________________________________________________________________\n",
      "dense_11 (Dense)                (None, 500)          10500       dropout_3[0][0]                  \n",
      "==================================================================================================\n",
      "Total params: 74,420\n",
      "Trainable params: 73,820\n",
      "Non-trainable params: 600\n",
      "__________________________________________________________________________________________________\n"
     ]
    }
   ],
   "source": [
    "model = get_model(end_label)"
   ]
  },
  {
   "cell_type": "code",
   "execution_count": 26,
   "metadata": {},
   "outputs": [],
   "source": [
    "\n",
    "lr_schedule = keras.optimizers.schedules.ExponentialDecay(\n",
    "    initial_learning_rate=1e-2,\n",
    "    decay_steps=20,\n",
    "    decay_rate=0.98\n",
    "    )\n",
    "    \n",
    "\n",
    "opt = keras.optimizers.Adam(learning_rate=lr_schedule)\n",
    "#opt = keras.optimizers.Adam()\n",
    "\n",
    "\n",
    "model.compile(optimizer=opt,\n",
    "          loss='mean_absolute_error',\n",
    "          metrics=['accuracy']\n",
    "         )"
   ]
  },
  {
   "cell_type": "code",
   "execution_count": null,
   "metadata": {},
   "outputs": [],
   "source": [
    "batch_size = 256\n",
    "history = model.fit(generator,\n",
    "                    #validation_data=(val_X, val_y),\n",
    "                    batch_size=64,\n",
    "                    epochs=100\n",
    "                  )\n",
    "\n",
    "showHistory(history)          "
   ]
  },
  {
   "cell_type": "code",
   "execution_count": null,
   "metadata": {},
   "outputs": [],
   "source": []
  },
  {
   "cell_type": "code",
   "execution_count": null,
   "metadata": {},
   "outputs": [],
   "source": []
  },
  {
   "cell_type": "code",
   "execution_count": null,
   "metadata": {},
   "outputs": [],
   "source": []
  }
 ],
 "metadata": {
  "kernelspec": {
   "display_name": "Python 3.7.7 ('tfapi')",
   "language": "python",
   "name": "python3"
  },
  "language_info": {
   "codemirror_mode": {
    "name": "ipython",
    "version": 3
   },
   "file_extension": ".py",
   "mimetype": "text/x-python",
   "name": "python",
   "nbconvert_exporter": "python",
   "pygments_lexer": "ipython3",
   "version": "3.7.7"
  },
  "orig_nbformat": 4,
  "vscode": {
   "interpreter": {
    "hash": "92305a181afc39b33ee61a35d0e40e8b58442f09ef580f437d451d27c8077620"
   }
  }
 },
 "nbformat": 4,
 "nbformat_minor": 2
}
