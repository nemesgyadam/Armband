{
 "cells": [
  {
   "cell_type": "code",
   "execution_count": 2,
   "metadata": {},
   "outputs": [
    {
     "name": "stdout",
     "output_type": "stream",
     "text": [
      "c:\\Code\\Armband\n"
     ]
    }
   ],
   "source": [
    "%cd .."
   ]
  },
  {
   "cell_type": "code",
   "execution_count": 18,
   "metadata": {},
   "outputs": [
    {
     "name": "stdout",
     "output_type": "stream",
     "text": [
      "The autoreload extension is already loaded. To reload it, use:\n",
      "  %reload_ext autoreload\n"
     ]
    }
   ],
   "source": [
    "import numpy as np\n",
    "import pandas as pd\n",
    "import random\n",
    "import os\n",
    "import keras_tuner as kt\n",
    "from scipy import signal\n",
    "from matplotlib import pyplot as plt\n",
    "from sklearn.model_selection import train_test_split\n",
    "from sklearn.metrics import accuracy_score\n",
    "import tensorflow as tf\n",
    "from tensorflow import keras\n",
    "from tensorflow.keras.models import Sequential\n",
    "from tensorflow.keras import layers as layers\n",
    "from tensorflow.keras.layers import GlobalMaxPooling2D, Activation, Dense, Conv1D, Conv2D, Dropout, Flatten, MaxPooling2D, BatchNormalization, GlobalMaxPooling1D\n",
    "from tensorflow.keras import optimizers\n",
    "\n",
    "%matplotlib inline\n",
    "import matplotlib.pyplot as plt\n",
    "\n",
    "from tensorflow.keras import regularizers\n",
    "\n",
    "\n",
    "\n",
    "from sklearn.model_selection import StratifiedKFold, KFold\n",
    "from sklearn.metrics import classification_report,confusion_matrix\n",
    "from sklearn.metrics import accuracy_score\n",
    "from tensorflow.keras.utils import to_categorical\n",
    "from sklearn.metrics import confusion_matrix\n",
    "from utils.signal import DCFilter, normalize\n",
    "from utils.visualize import showMe, showHistory, showAvg\n",
    "from utils.augment import apply_augment\n",
    "\n",
    "from utils.models.conv_classifier import get_conv_classifier\n",
    "from utils.models.conv_classifier2 import get_conv_classifier2\n",
    "from utils.models.dense_classifier import get_dense_classifier\n",
    "from utils.models.regression.conv import get_model\n",
    "from utils.data import load_set, pre_process_set, format2train, shuffle\n",
    "\n",
    "from config.continous import settings\n",
    "from utils.visualizer import Visualizer\n",
    "from utils.SamplerGenerator import SamplerGenerator\n",
    "\n",
    "from utils.sampler import Sampler\n",
    "%load_ext autoreload\n",
    "%autoreload 2"
   ]
  },
  {
   "cell_type": "code",
   "execution_count": 11,
   "metadata": {},
   "outputs": [],
   "source": [
    "generator = SamplerGenerator(settings, batch_size=64, n_steps = 500)\n",
    "vis = Visualizer()"
   ]
  },
  {
   "cell_type": "code",
   "execution_count": 19,
   "metadata": {},
   "outputs": [
    {
     "name": "stdout",
     "output_type": "stream",
     "text": [
      "Model: \"model_2\"\n",
      "__________________________________________________________________________________________________\n",
      " Layer (type)                   Output Shape         Param #     Connected to                     \n",
      "==================================================================================================\n",
      " input (InputLayer)             [(None, 8, 500)]     0           []                               \n",
      "                                                                                                  \n",
      " reshape_2 (Reshape)            (None, 8, 500, 1)    0           ['input[0][0]']                  \n",
      "                                                                                                  \n",
      " average_pooling2d_6 (AveragePo  (None, 8, 250, 1)   0           ['reshape_2[0][0]']              \n",
      " oling2D)                                                                                         \n",
      "                                                                                                  \n",
      " conv2d_4 (Conv2D)              (None, 8, 250, 100)  10100       ['average_pooling2d_6[0][0]']    \n",
      "                                                                                                  \n",
      " batch_normalization_6 (BatchNo  (None, 8, 250, 100)  400        ['conv2d_4[0][0]']               \n",
      " rmalization)                                                                                     \n",
      "                                                                                                  \n",
      " average_pooling2d_7 (AveragePo  (None, 8, 2, 100)   0           ['batch_normalization_6[0][0]']  \n",
      " oling2D)                                                                                         \n",
      "                                                                                                  \n",
      " conv2d_5 (Conv2D)              (None, 8, 2, 100)    10100       ['average_pooling2d_7[0][0]']    \n",
      "                                                                                                  \n",
      " batch_normalization_7 (BatchNo  (None, 8, 2, 100)   400         ['conv2d_5[0][0]']               \n",
      " rmalization)                                                                                     \n",
      "                                                                                                  \n",
      " average_pooling2d_8 (AveragePo  (None, 8, 2, 100)   0           ['batch_normalization_7[0][0]']  \n",
      " oling2D)                                                                                         \n",
      "                                                                                                  \n",
      " batch_normalization_8 (BatchNo  (None, 8, 2, 100)   400         ['average_pooling2d_8[0][0]']    \n",
      " rmalization)                                                                                     \n",
      "                                                                                                  \n",
      " flatten_2 (Flatten)            (None, 1600)         0           ['batch_normalization_8[0][0]']  \n",
      "                                                                                                  \n",
      " dense_6 (Dense)                (None, 20)           32020       ['flatten_2[0][0]']              \n",
      "                                                                                                  \n",
      " dropout_2 (Dropout)            (None, 20)           0           ['dense_6[0][0]']                \n",
      "                                                                                                  \n",
      " dense_7 (Dense)                (None, 1)            21          ['dropout_2[0][0]']              \n",
      "                                                                                                  \n",
      " dense_8 (Dense)                (None, 1)            21          ['dropout_2[0][0]']              \n",
      "                                                                                                  \n",
      "==================================================================================================\n",
      "Total params: 53,462\n",
      "Trainable params: 52,862\n",
      "Non-trainable params: 600\n",
      "__________________________________________________________________________________________________\n"
     ]
    }
   ],
   "source": [
    "model = get_model()"
   ]
  },
  {
   "cell_type": "code",
   "execution_count": 23,
   "metadata": {},
   "outputs": [],
   "source": [
    "\n",
    "lr_schedule = keras.optimizers.schedules.ExponentialDecay(\n",
    "    initial_learning_rate=1e-2,\n",
    "    decay_steps=20,\n",
    "    decay_rate=0.98\n",
    "    )\n",
    "    \n",
    "\n",
    "opt = keras.optimizers.Adam(learning_rate=lr_schedule)\n",
    "#opt = keras.optimizers.Adam()\n",
    "\n",
    "\n",
    "model.compile(optimizer=opt,\n",
    "          loss='mean_absolute_error',\n",
    "          metrics=['accuracy']\n",
    "         )"
   ]
  },
  {
   "cell_type": "code",
   "execution_count": 24,
   "metadata": {},
   "outputs": [
    {
     "name": "stdout",
     "output_type": "stream",
     "text": [
      "Epoch 1/10\n",
      "500/500 [==============================] - 6s 10ms/step - loss: 1.1502 - dense_7_loss: 0.3856 - dense_8_loss: 0.5426 - dense_7_accuracy: 0.0017 - dense_8_accuracy: 0.0022\n",
      "Epoch 2/10\n",
      "500/500 [==============================] - 5s 10ms/step - loss: 0.7622 - dense_7_loss: 0.3784 - dense_8_loss: 0.3785 - dense_7_accuracy: 8.5937e-04 - dense_8_accuracy: 7.8125e-04\n",
      "Epoch 3/10\n",
      "500/500 [==============================] - 5s 11ms/step - loss: 0.7520 - dense_7_loss: 0.3741 - dense_8_loss: 0.3745 - dense_7_accuracy: 0.0033 - dense_8_accuracy: 0.0025\n",
      "Epoch 4/10\n",
      "500/500 [==============================] - 6s 11ms/step - loss: 0.7449 - dense_7_loss: 0.3692 - dense_8_loss: 0.3704 - dense_7_accuracy: 0.0065 - dense_8_accuracy: 0.0048\n",
      "Epoch 5/10\n",
      "500/500 [==============================] - 5s 11ms/step - loss: 0.7437 - dense_7_loss: 0.3681 - dense_8_loss: 0.3696 - dense_7_accuracy: 0.0078 - dense_8_accuracy: 0.0058\n",
      "Epoch 6/10\n",
      "500/500 [==============================] - 5s 11ms/step - loss: 0.7394 - dense_7_loss: 0.3657 - dense_8_loss: 0.3676 - dense_7_accuracy: 0.0095 - dense_8_accuracy: 0.0071\n",
      "Epoch 7/10\n",
      "500/500 [==============================] - 5s 11ms/step - loss: 0.7415 - dense_7_loss: 0.3668 - dense_8_loss: 0.3687 - dense_7_accuracy: 0.0099 - dense_8_accuracy: 0.0080\n",
      "Epoch 8/10\n",
      "500/500 [==============================] - 5s 11ms/step - loss: 0.7390 - dense_7_loss: 0.3655 - dense_8_loss: 0.3675 - dense_7_accuracy: 0.0110 - dense_8_accuracy: 0.0088\n",
      "Epoch 9/10\n",
      "500/500 [==============================] - 5s 11ms/step - loss: 0.7329 - dense_7_loss: 0.3626 - dense_8_loss: 0.3644 - dense_7_accuracy: 0.0113 - dense_8_accuracy: 0.0092\n",
      "Epoch 10/10\n",
      "500/500 [==============================] - 5s 11ms/step - loss: 0.7359 - dense_7_loss: 0.3643 - dense_8_loss: 0.3659 - dense_7_accuracy: 0.0108 - dense_8_accuracy: 0.0093\n"
     ]
    },
    {
     "data": {
      "image/png": "[encoded data removed]",
      "text/plain": [
       "<Figure size 360x360 with 1 Axes>"
      ]
     },
     "metadata": {
      "needs_background": "light"
     },
     "output_type": "display_data"
    }
   ],
   "source": [
    "batch_size = 256\n",
    "history = model.fit(generator,\n",
    "                    #validation_data=(val_X, val_y),\n",
    "                    batch_size=64,\n",
    "                    epochs=100\n",
    "                  )\n",
    "\n",
    "showHistory(history)          "
   ]
  },
  {
   "cell_type": "code",
   "execution_count": null,
   "metadata": {},
   "outputs": [],
   "source": []
  },
  {
   "cell_type": "code",
   "execution_count": null,
   "metadata": {},
   "outputs": [],
   "source": []
  },
  {
   "cell_type": "code",
   "execution_count": null,
   "metadata": {},
   "outputs": [],
   "source": []
  }
 ],
 "metadata": {
  "kernelspec": {
   "display_name": "Python 3.10.5 64-bit",
   "language": "python",
   "name": "python3"
  },
  "language_info": {
   "codemirror_mode": {
    "name": "ipython",
    "version": 3
   },
   "file_extension": ".py",
   "mimetype": "text/x-python",
   "name": "python",
   "nbconvert_exporter": "python",
   "pygments_lexer": "ipython3",
   "version": "3.10.5"
  },
  "orig_nbformat": 4,
  "vscode": {
   "interpreter": {
    "hash": "9c3bc4468e177b571f977f49ff15cc38e604c760649959177f542892930a62a4"
   }
  }
 },
 "nbformat": 4,
 "nbformat_minor": 2
}
