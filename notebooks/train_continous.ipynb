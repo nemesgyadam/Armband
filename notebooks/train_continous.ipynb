{
 "cells": [
  {
   "cell_type": "code",
   "execution_count": 1,
   "metadata": {},
   "outputs": [
    {
     "name": "stdout",
     "output_type": "stream",
     "text": [
      "c:\\Code\\Armband\n"
     ]
    }
   ],
   "source": [
    "%cd .."
   ]
  },
  {
   "cell_type": "code",
   "execution_count": 2,
   "metadata": {},
   "outputs": [],
   "source": [
    "import numpy as np\n",
    "import pandas as pd\n",
    "import random\n",
    "import os\n",
    "#import keras_tuner as kt\n",
    "from scipy import signal\n",
    "from matplotlib import pyplot as plt\n",
    "from sklearn.model_selection import train_test_split\n",
    "from sklearn.metrics import accuracy_score\n",
    "import tensorflow as tf\n",
    "from tensorflow import keras\n",
    "from tensorflow.keras.models import Sequential\n",
    "from tensorflow.keras import layers as layers\n",
    "from tensorflow.keras.layers import GlobalMaxPooling2D, Activation, Dense, Conv1D, Conv2D, Dropout, Flatten, MaxPooling2D, BatchNormalization, GlobalMaxPooling1D\n",
    "from tensorflow.keras import optimizers\n",
    "\n",
    "%matplotlib inline\n",
    "import matplotlib.pyplot as plt\n",
    "\n",
    "from tensorflow.keras import regularizers\n",
    "\n",
    "\n",
    "\n",
    "from sklearn.model_selection import StratifiedKFold, KFold\n",
    "from sklearn.metrics import classification_report,confusion_matrix\n",
    "from sklearn.metrics import accuracy_score\n",
    "from tensorflow.keras.utils import to_categorical\n",
    "from sklearn.metrics import confusion_matrix\n",
    "from utils.signal import DCFilter, normalize\n",
    "from utils.visualize import showMe, showHistory, showAvg\n",
    "from utils.augment import apply_augment\n",
    "\n",
    "\n",
    "from utils.models.regression.conv2 import get_model\n",
    "\n",
    "from utils.data import load_set, pre_process_set, format2train, shuffle\n",
    "from utils.sampler_generator import SamplerGenerator\n",
    "from config.continous import settings\n",
    "from utils.visualizer import Visualizer\n",
    "%load_ext autoreload\n",
    "%autoreload 2"
   ]
  },
  {
   "cell_type": "code",
   "execution_count": 11,
   "metadata": {},
   "outputs": [
    {
     "name": "stdout",
     "output_type": "stream",
     "text": [
      "Loading 2 sessions...\n",
      "X_store shape: (8, 92503)\n",
      "y_store shape: (2, 92503)\n",
      "X_store shape: (8, 26650)\n",
      "y_store shape: (2, 26650)\n",
      "Loaded 2 sessions\n"
     ]
    }
   ],
   "source": [
    "end_label = True\n",
    "generator = SamplerGenerator(settings, batch_size=64, n_steps = 500, end_label=end_label)\n",
    "vis = Visualizer()"
   ]
  },
  {
   "cell_type": "code",
   "execution_count": 12,
   "metadata": {},
   "outputs": [
    {
     "name": "stdout",
     "output_type": "stream",
     "text": [
      "(64, 8, 500)\n",
      "(64, 2)\n"
     ]
    }
   ],
   "source": [
    "print(generator[0][0].shape)\n",
    "print(generator[0][1].shape)"
   ]
  },
  {
   "cell_type": "code",
   "execution_count": 13,
   "metadata": {},
   "outputs": [
    {
     "name": "stdout",
     "output_type": "stream",
     "text": [
      "Model: \"model\"\n",
      "__________________________________________________________________________________________________\n",
      " Layer (type)                   Output Shape         Param #     Connected to                     \n",
      "==================================================================================================\n",
      " input (InputLayer)             [(None, 8, 500)]     0           []                               \n",
      "                                                                                                  \n",
      " reshape (Reshape)              (None, 8, 500, 1)    0           ['input[0][0]']                  \n",
      "                                                                                                  \n",
      " average_pooling2d (AveragePool  (None, 8, 250, 1)   0           ['reshape[0][0]']                \n",
      " ing2D)                                                                                           \n",
      "                                                                                                  \n",
      " conv2d (Conv2D)                (None, 8, 250, 200)  2200        ['average_pooling2d[0][0]']      \n",
      "                                                                                                  \n",
      " batch_normalization (BatchNorm  (None, 8, 250, 200)  800        ['conv2d[0][0]']                 \n",
      " alization)                                                                                       \n",
      "                                                                                                  \n",
      " average_pooling2d_1 (AveragePo  (None, 8, 25, 200)  0           ['batch_normalization[0][0]']    \n",
      " oling2D)                                                                                         \n",
      "                                                                                                  \n",
      " conv2d_1 (Conv2D)              (None, 8, 25, 200)   40200       ['average_pooling2d_1[0][0]']    \n",
      "                                                                                                  \n",
      " batch_normalization_1 (BatchNo  (None, 8, 25, 200)  800         ['conv2d_1[0][0]']               \n",
      " rmalization)                                                                                     \n",
      "                                                                                                  \n",
      " average_pooling2d_2 (AveragePo  (None, 8, 25, 200)  0           ['batch_normalization_1[0][0]']  \n",
      " oling2D)                                                                                         \n",
      "                                                                                                  \n",
      " batch_normalization_2 (BatchNo  (None, 8, 25, 200)  800         ['average_pooling2d_2[0][0]']    \n",
      " rmalization)                                                                                     \n",
      "                                                                                                  \n",
      " flatten (Flatten)              (None, 40000)        0           ['batch_normalization_2[0][0]']  \n",
      "                                                                                                  \n",
      " dense (Dense)                  (None, 200)          8000200     ['flatten[0][0]']                \n",
      "                                                                                                  \n",
      " dropout (Dropout)              (None, 200)          0           ['dense[0][0]']                  \n",
      "                                                                                                  \n",
      " dense_1 (Dense)                (None, 1)            201         ['dropout[0][0]']                \n",
      "                                                                                                  \n",
      " dense_2 (Dense)                (None, 1)            201         ['dropout[0][0]']                \n",
      "                                                                                                  \n",
      "==================================================================================================\n",
      "Total params: 8,045,402\n",
      "Trainable params: 8,044,202\n",
      "Non-trainable params: 1,200\n",
      "__________________________________________________________________________________________________\n"
     ]
    }
   ],
   "source": [
    "model = get_model(end_label)"
   ]
  },
  {
   "cell_type": "code",
   "execution_count": 14,
   "metadata": {},
   "outputs": [],
   "source": [
    "\n",
    "lr_schedule = keras.optimizers.schedules.ExponentialDecay(\n",
    "    initial_learning_rate=1e-3,\n",
    "    decay_steps=20,\n",
    "    decay_rate=0.98\n",
    "    )\n",
    "    \n",
    "\n",
    "opt = keras.optimizers.Adam(learning_rate=lr_schedule)\n",
    "#opt = keras.optimizers.Adam()\n",
    "\n",
    "\n",
    "model.compile(optimizer=opt,\n",
    "          loss='mean_absolute_error',\n",
    "          metrics=['accuracy']\n",
    "         )"
   ]
  },
  {
   "cell_type": "code",
   "execution_count": 15,
   "metadata": {},
   "outputs": [
    {
     "name": "stdout",
     "output_type": "stream",
     "text": [
      "Epoch 1/10\n",
      "500/500 [==============================] - 11s 17ms/step - loss: 2.5783 - dense_1_loss: 0.5922 - dense_2_loss: 0.9021 - dense_1_accuracy: 0.2085 - dense_2_accuracy: 0.2270\n",
      "Epoch 2/10\n",
      "500/500 [==============================] - 9s 17ms/step - loss: 1.8056 - dense_1_loss: 0.5790 - dense_2_loss: 0.8133 - dense_1_accuracy: 0.1839 - dense_2_accuracy: 0.2551\n",
      "Epoch 3/10\n",
      "500/500 [==============================] - 8s 17ms/step - loss: 1.5953 - dense_1_loss: 0.5747 - dense_2_loss: 0.8019 - dense_1_accuracy: 0.1681 - dense_2_accuracy: 0.2602\n",
      "Epoch 4/10\n",
      "500/500 [==============================] - 8s 17ms/step - loss: 1.5219 - dense_1_loss: 0.5705 - dense_2_loss: 0.7926 - dense_1_accuracy: 0.1655 - dense_2_accuracy: 0.2639\n",
      "Epoch 5/10\n",
      "500/500 [==============================] - 8s 17ms/step - loss: 1.4451 - dense_1_loss: 0.5689 - dense_2_loss: 0.7767 - dense_1_accuracy: 0.1578 - dense_2_accuracy: 0.2727\n",
      "Epoch 6/10\n",
      "500/500 [==============================] - 8s 17ms/step - loss: 1.4098 - dense_1_loss: 0.5644 - dense_2_loss: 0.7715 - dense_1_accuracy: 0.1581 - dense_2_accuracy: 0.2727\n",
      "Epoch 7/10\n",
      "500/500 [==============================] - 8s 17ms/step - loss: 1.3825 - dense_1_loss: 0.5620 - dense_2_loss: 0.7709 - dense_1_accuracy: 0.1589 - dense_2_accuracy: 0.2743\n",
      "Epoch 8/10\n",
      "500/500 [==============================] - 8s 16ms/step - loss: 1.3682 - dense_1_loss: 0.5628 - dense_2_loss: 0.7646 - dense_1_accuracy: 0.1578 - dense_2_accuracy: 0.2762\n",
      "Epoch 9/10\n",
      "500/500 [==============================] - 8s 17ms/step - loss: 1.3617 - dense_1_loss: 0.5619 - dense_2_loss: 0.7652 - dense_1_accuracy: 0.1577 - dense_2_accuracy: 0.2762\n",
      "Epoch 10/10\n",
      "500/500 [==============================] - 8s 16ms/step - loss: 1.3576 - dense_1_loss: 0.5604 - dense_2_loss: 0.7654 - dense_1_accuracy: 0.1606 - dense_2_accuracy: 0.2761\n"
     ]
    },
    {
     "data": {
      "image/png": "[encoded data removed]",
      "text/plain": [
       "<Figure size 360x360 with 1 Axes>"
      ]
     },
     "metadata": {
      "needs_background": "light"
     },
     "output_type": "display_data"
    }
   ],
   "source": [
    "history = model.fit(generator,\n",
    "                    #validation_data=(val_X, val_y),\n",
    "                    batch_size=64,\n",
    "                    epochs=10\n",
    "                  )\n",
    "\n",
    "showHistory(history)          "
   ]
  },
  {
   "cell_type": "code",
   "execution_count": null,
   "metadata": {},
   "outputs": [],
   "source": []
  }
 ],
 "metadata": {
  "kernelspec": {
   "display_name": "Python 3.10.5 64-bit",
   "language": "python",
   "name": "python3"
  },
  "language_info": {
   "codemirror_mode": {
    "name": "ipython",
    "version": 3
   },
   "file_extension": ".py",
   "mimetype": "text/x-python",
   "name": "python",
   "nbconvert_exporter": "python",
   "pygments_lexer": "ipython3",
   "version": "3.10.5"
  },
  "orig_nbformat": 4,
  "vscode": {
   "interpreter": {
    "hash": "9c3bc4468e177b571f977f49ff15cc38e604c760649959177f542892930a62a4"
   }
  }
 },
 "nbformat": 4,
 "nbformat_minor": 2
}
