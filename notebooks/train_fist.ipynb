{
 "cells": [
  {
   "cell_type": "code",
   "execution_count": null,
   "metadata": {},
   "outputs": [],
   "source": [
    "%cd .."
   ]
  },
  {
   "cell_type": "code",
   "execution_count": null,
   "metadata": {},
   "outputs": [],
   "source": [
    "import numpy as np\n",
    "import pandas as pd\n",
    "import random\n",
    "import os\n",
    "#import keras_tuner as kt\n",
    "from scipy import signal\n",
    "from matplotlib import pyplot as plt\n",
    "from sklearn.model_selection import train_test_split\n",
    "from sklearn.metrics import accuracy_score\n",
    "import tensorflow as tf\n",
    "from tensorflow import keras\n",
    "from tensorflow.keras.models import Sequential\n",
    "from tensorflow.keras import layers as layers\n",
    "from tensorflow.keras.layers import GlobalMaxPooling2D, Activation, Dense, Conv1D, Conv2D, Dropout, Flatten, MaxPooling2D, BatchNormalization, GlobalMaxPooling1D\n",
    "from tensorflow.keras import optimizers\n",
    "\n",
    "%matplotlib inline\n",
    "import matplotlib.pyplot as plt\n",
    "\n",
    "from tensorflow.keras import regularizers\n",
    "\n",
    "\n",
    "\n",
    "from sklearn.model_selection import StratifiedKFold, KFold\n",
    "from sklearn.metrics import classification_report,confusion_matrix\n",
    "from sklearn.metrics import accuracy_score\n",
    "from tensorflow.keras.utils import to_categorical\n",
    "from sklearn.metrics import confusion_matrix\n",
    "from utils.signal import DCFilter, normalize\n",
    "from utils.visualize import showMe, showHistory, showAvg\n",
    "from utils.augment import apply_augment\n",
    "\n",
    "\n",
    "from utils.models.regression.conv2 import get_model\n",
    "\n",
    "from utils.data import load_set, pre_process_set, format2train, shuffle\n",
    "from utils.sampler_generator import SamplerGenerator\n",
    "\n",
    "from utils.visualizer import Visualizer\n",
    "\n",
    "%load_ext autoreload\n",
    "%autoreload 2\n",
    "\n",
    "\n",
    "\n",
    "from config.fist import settings\n",
    "\n",
    "np.random.seed(42)\n",
    "tf.keras.utils.set_random_seed(1)\n",
    "tf.config.experimental.enable_op_determinism()"
   ]
  },
  {
   "cell_type": "code",
   "execution_count": null,
   "metadata": {},
   "outputs": [],
   "source": [
    "end_label = True\n",
    "train_generator = SamplerGenerator(settings, batch_size=settings['batch_size'], n_steps = 500, end_label=end_label)\n",
    "val_generator = SamplerGenerator(settings, batch_size=settings['batch_size'], n_steps = 500, end_label=end_label, split = 'val')"
   ]
  },
  {
   "cell_type": "code",
   "execution_count": null,
   "metadata": {},
   "outputs": [],
   "source": [
    "#from utils.models.regression.dense import get_model\n",
    "from utils.models.regression.lstm import get_model\n",
    "\n",
    "model = get_model(end_label)"
   ]
  },
  {
   "cell_type": "code",
   "execution_count": null,
   "metadata": {},
   "outputs": [],
   "source": [
    "\n",
    "lr_schedule = keras.optimizers.schedules.ExponentialDecay(\n",
    "    initial_learning_rate=1e-3,\n",
    "    decay_steps=20,\n",
    "    decay_rate=0.98\n",
    "    )\n",
    "    \n",
    "\n",
    "loss = tf.keras.losses.BinaryCrossentropy(\n",
    "    from_logits=True,\n",
    "    label_smoothing=0.005,\n",
    "    axis=-1,\n",
    "    #reduction=\"auto\",\n",
    "    name=\"binary_crossentropy\",\n",
    ")\n",
    "\n",
    "opt = keras.optimizers.Adam(learning_rate=lr_schedule)\n",
    "#opt = keras.optimizers.Adam()\n",
    "\n",
    "\n",
    "model.compile(optimizer=opt,\n",
    "          loss=loss,\n",
    "          metrics=['accuracy']\n",
    "         )"
   ]
  },
  {
   "cell_type": "code",
   "execution_count": null,
   "metadata": {},
   "outputs": [],
   "source": [
    "history = model.fit(train_generator,\n",
    "                    validation_data=val_generator,\n",
    "                    batch_size=settings['batch_size'],\n",
    "                    epochs=100\n",
    "                  )\n",
    "\n",
    "showHistory(history)          "
   ]
  },
  {
   "cell_type": "code",
   "execution_count": null,
   "metadata": {},
   "outputs": [],
   "source": []
  }
 ],
 "metadata": {
  "kernelspec": {
   "display_name": "Python 3.10.5 64-bit",
   "language": "python",
   "name": "python3"
  },
  "language_info": {
   "codemirror_mode": {
    "name": "ipython",
    "version": 3
   },
   "file_extension": ".py",
   "mimetype": "text/x-python",
   "name": "python",
   "nbconvert_exporter": "python",
   "pygments_lexer": "ipython3",
   "version": "3.10.5"
  },
  "orig_nbformat": 4,
  "vscode": {
   "interpreter": {
    "hash": "9c3bc4468e177b571f977f49ff15cc38e604c760649959177f542892930a62a4"
   }
  }
 },
 "nbformat": 4,
 "nbformat_minor": 2
}
