{
 "cells": [
  {
   "cell_type": "markdown",
   "metadata": {},
   "source": [
    "This notebook load and visualize previously recorded data."
   ]
  },
  {
   "cell_type": "code",
   "execution_count": null,
   "metadata": {},
   "outputs": [],
   "source": [
    "cd .."
   ]
  },
  {
   "cell_type": "code",
   "execution_count": null,
   "metadata": {},
   "outputs": [],
   "source": [
    "import os\n",
    "import time\n",
    "import numpy as np\n",
    "\n",
    "\n",
    "import brainflow\n",
    "from brainflow.data_filter import DataFilter, FilterTypes, AggOperations\n",
    "from brainflow.board_shim import BoardShim, BrainFlowInputParams, BoardIds, BrainFlowError\n",
    "\n",
    "from tqdm.notebook import tqdm\n",
    "import datetime\n",
    "from matplotlib import pyplot as plt\n",
    "\n",
    "from utils.armband import init\n",
    "from utils.visualize import showMe\n",
    "from utils.signal import DCFilter\n",
    "from config.armband import *\n",
    "from IPython.display import clear_output\n",
    "\n",
    "%matplotlib inline\n",
    "\n",
    "%load_ext autoreload\n",
    "%autoreload 2"
   ]
  },
  {
   "cell_type": "code",
   "execution_count": null,
   "metadata": {},
   "outputs": [],
   "source": [
    "path = 'data/Nemes/'\n",
    "post_fix = ''\n",
    "\n",
    "sessions = []\n",
    "store = []\n",
    "for session in os.listdir(path):\n",
    "    Stack = {}\n",
    "    for c in settings[\"classes\"]:\n",
    "        class_data = []\n",
    "        data = np.load(os.path.join(path, session, c+post_fix+'.npy'),allow_pickle=True)\n",
    "        store.append(data)\n",
    "        if data.shape[0] != 0:\n",
    "            class_data.append(data)\n",
    "        Stack[c] = class_data\n",
    "    sessions.append(Stack)"
   ]
  },
  {
   "cell_type": "code",
   "execution_count": null,
   "metadata": {},
   "outputs": [],
   "source": [
    "for i, s in enumerate(store):\n",
    "    print(settings[\"classes\"][i])\n",
    "    for d in s:\n",
    "        showMe(d)"
   ]
  },
  {
   "cell_type": "code",
   "execution_count": null,
   "metadata": {},
   "outputs": [],
   "source": [
    "print(len(sessions))"
   ]
  },
  {
   "cell_type": "code",
   "execution_count": null,
   "metadata": {},
   "outputs": [],
   "source": [
    "for session in sessions:\n",
    "    for Stack in session:\n",
    "        print(Stack)\n",
    "        sample = session[Stack][0][0]\n",
    "        showMe(sample)\n",
    "    #input('Next')\n",
    "    clear_output()\n",
    "    "
   ]
  },
  {
   "cell_type": "code",
   "execution_count": null,
   "metadata": {},
   "outputs": [],
   "source": []
  }
 ],
 "metadata": {
  "interpreter": {
   "hash": "d145b0613119c2b06cdf55afc3599a1396e04aaf124274722fc9d436a049c1ba"
  },
  "kernelspec": {
   "display_name": "Python 3.7.6 64-bit",
   "language": "python",
   "name": "python3"
  },
  "language_info": {
   "codemirror_mode": {
    "name": "ipython",
    "version": 3
   },
   "file_extension": ".py",
   "mimetype": "text/x-python",
   "name": "python",
   "nbconvert_exporter": "python",
   "pygments_lexer": "ipython3",
   "version": "3.7.6"
  },
  "orig_nbformat": 4,
  "vscode": {
   "interpreter": {
    "hash": "806c5592a5bbfa324dd5d3c42aed22c22674a2753c676a4078a9ba9a084c71f7"
   }
  }
 },
 "nbformat": 4,
 "nbformat_minor": 2
}
