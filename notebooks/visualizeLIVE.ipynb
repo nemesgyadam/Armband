{
 "cells": [
  {
   "cell_type": "markdown",
   "metadata": {},
   "source": [
    "This notebook visualize the raw data (only DC filter applied), real time from the armband device"
   ]
  },
  {
   "cell_type": "code",
   "execution_count": 1,
   "metadata": {},
   "outputs": [
    {
     "name": "stdout",
     "output_type": "stream",
     "text": [
      "c:\\Code\\Armband\n"
     ]
    }
   ],
   "source": [
    "cd .."
   ]
  },
  {
   "cell_type": "code",
   "execution_count": 2,
   "metadata": {},
   "outputs": [],
   "source": [
    "import os\n",
    "import time\n",
    "import numpy as np\n",
    "\n",
    "\n",
    "import brainflow\n",
    "from brainflow.data_filter import DataFilter, FilterTypes, AggOperations\n",
    "from brainflow.board_shim import BoardShim, BrainFlowInputParams, BoardIds, BrainFlowError\n",
    "\n",
    "from tqdm.notebook import tqdm\n",
    "import datetime\n",
    "from matplotlib import pyplot as plt\n",
    "\n",
    "from utils.armband import init\n",
    "from utils.visualize import showMe\n",
    "from utils.signal import DCFilter\n",
    "from config.armband import *\n",
    "# %matplotlib inline\n",
    "\n",
    "%load_ext autoreload\n",
    "%autoreload 2"
   ]
  },
  {
   "cell_type": "code",
   "execution_count": 3,
   "metadata": {},
   "outputs": [
    {
     "name": "stdout",
     "output_type": "stream",
     "text": [
      "Device ready (sampling rate: 500hz)\n"
     ]
    }
   ],
   "source": [
    "board = init()\n",
    "sample_rate = board.get_sampling_rate(16)"
   ]
  },
  {
   "cell_type": "markdown",
   "metadata": {},
   "source": [
    "Live"
   ]
  },
  {
   "cell_type": "code",
   "execution_count": null,
   "metadata": {},
   "outputs": [],
   "source": [
    "board.start_stream(450000) \n",
    "while(True):\n",
    "    time.sleep(200/1000)\n",
    "    data = board.get_board_data()\n",
    "    data = DCFilter(data)\n",
    "    showMe(data[:8,:1000], range=[-50000,50000], clear = True)"
   ]
  }
 ],
 "metadata": {
  "interpreter": {
   "hash": "d145b0613119c2b06cdf55afc3599a1396e04aaf124274722fc9d436a049c1ba"
  },
  "kernelspec": {
   "display_name": "Python 3.7.6 64-bit",
   "language": "python",
   "name": "python3"
  },
  "language_info": {
   "codemirror_mode": {
    "name": "ipython",
    "version": 3
   },
   "file_extension": ".py",
   "mimetype": "text/x-python",
   "name": "python",
   "nbconvert_exporter": "python",
   "pygments_lexer": "ipython3",
   "version": "3.7.6"
  },
  "orig_nbformat": 4,
  "vscode": {
   "interpreter": {
    "hash": "806c5592a5bbfa324dd5d3c42aed22c22674a2753c676a4078a9ba9a084c71f7"
   }
  }
 },
 "nbformat": 4,
 "nbformat_minor": 2
}
